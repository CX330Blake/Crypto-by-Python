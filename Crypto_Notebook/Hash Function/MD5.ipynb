{
 "cells": [
  {
   "cell_type": "markdown",
   "metadata": {},
   "source": [
    "# Prettier"
   ]
  },
  {
   "cell_type": "code",
   "execution_count": null,
   "metadata": {},
   "outputs": [],
   "source": [
    "from rich import print\n",
    "from rich.progress import track"
   ]
  },
  {
   "cell_type": "markdown",
   "metadata": {},
   "source": [
    "# MD5 Hashing Algorithm"
   ]
  },
  {
   "cell_type": "code",
   "execution_count": null,
   "metadata": {},
   "outputs": [],
   "source": [
    "import hashlib\n",
    "\n",
    "# 定义要计算哈希值的字符串\n",
    "string = \"MD5\"\n",
    "\n",
    "# 创建MD5哈希对象\n",
    "md5_hash = hashlib.md5()\n",
    "\n",
    "# 更新哈希对象的内容\n",
    "md5_hash.update(string.encode())\n",
    "\n",
    "# 计算哈希值\n",
    "hash_value = md5_hash.hexdigest()\n",
    "\n",
    "print(f\"MD5 哈希值: {hash_value}\")"
   ]
  },
  {
   "cell_type": "markdown",
   "metadata": {},
   "source": [
    "# Rainbow table attack on MD5 hash"
   ]
  },
  {
   "cell_type": "code",
   "execution_count": null,
   "metadata": {},
   "outputs": [],
   "source": [
    "import hashlib\n",
    "import itertools\n",
    "from tqdm import tqdm\n",
    "\n",
    "\n",
    "def generate_rainbow_table(min_length, max_length):\n",
    "    rainbow_table = {}\n",
    "    characters = \"abcdefghijklmnopqrstuvwxyzABCDEFGHIJKLMNOPQRSTUVWXYZ0123456789\"\n",
    "\n",
    "    for length in range(min_length, max_length + 1):\n",
    "        # Generate all password strings of length 'length'\n",
    "        passwords = [\"\".join(i) for i in itertools.product(characters, repeat=length)]\n",
    "\n",
    "        # Calculate MD5 hash for each password and store in rainbow table\n",
    "        for password in tqdm(\n",
    "            passwords, desc=f\"Generating rainbow table for length {length}...\"\n",
    "        ):\n",
    "            hash_value = hashlib.md5(password.encode()).hexdigest()\n",
    "            rainbow_table[hash_value] = password\n",
    "\n",
    "    return rainbow_table\n",
    "\n",
    "\n",
    "def crack_md5_hash(md5_hash, rainbow_table):\n",
    "    if md5_hash in rainbow_table:\n",
    "        return rainbow_table[md5_hash]\n",
    "    else:\n",
    "        return None\n",
    "\n",
    "\n",
    "# Generate rainbow table for passwords of length 1 to 12\n",
    "min_length = 1\n",
    "max_length = 4\n",
    "rainbow_table = generate_rainbow_table(min_length, max_length)\n",
    "\n",
    "# Example MD5 hash to crack\n",
    "cracking_md5_hash = hash_value\n",
    "\n",
    "# Crack MD5 hash\n",
    "password = crack_md5_hash(cracking_md5_hash, rainbow_table)\n",
    "\n",
    "if password:\n",
    "    print(f\"Found password for MD5 hash {cracking_md5_hash}: {password}\")\n",
    "else:\n",
    "    print(f\"Password for MD5 hash [{cracking_md5_hash}] not found in rainbow table.\")"
   ]
  },
  {
   "cell_type": "code",
   "execution_count": null,
   "metadata": {},
   "outputs": [],
   "source": []
  }
 ],
 "metadata": {
  "kernelspec": {
   "display_name": "Python 3",
   "language": "python",
   "name": "python3"
  },
  "language_info": {
   "codemirror_mode": {
    "name": "ipython",
    "version": 3
   },
   "file_extension": ".py",
   "mimetype": "text/x-python",
   "name": "python",
   "nbconvert_exporter": "python",
   "pygments_lexer": "ipython3",
   "version": "3.12.0"
  }
 },
 "nbformat": 4,
 "nbformat_minor": 2
}
