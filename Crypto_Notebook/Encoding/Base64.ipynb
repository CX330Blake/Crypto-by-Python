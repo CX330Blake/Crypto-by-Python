{
 "cells": [
  {
   "cell_type": "markdown",
   "metadata": {},
   "source": [
    "# 原理\n",
    "### Base64 編碼\n",
    "\n",
    "Base64 是一種用於將二進制數據轉換為文本數據的編碼方法。它將每 6 位二進制數據映射到一個字符（2的6次方為64），使用 64 個不同的字符集（通常是 A-Z、a-z、0-9 和兩個額外字符）來表示數據。Base64 編碼常用於在網絡上傳輸數據，如在電子郵件中傳輸二進制文件或在 URL 中傳遞參數。以下是 Base64 編碼的一些特點：\n",
    "\n",
    "- **字符集：** 使用 64 個字符集來表示數據，通常是 A-Z、a-z、0-9 和兩個額外字符（如 + 和 /）。\n",
    "- **填充字符：** 在編碼的最後可能會出現 1 到 2 個填充字符 \"=\"，用來表示原始數據的末尾不足 24 位的部分。\n",
    "- **長度增加：** Base64 編碼後的數據長度通常會增加約 33%，因為每 3 個字節的二進制數據會被編碼成 4 個字符。\n",
    "\n",
    "### Base32 編碼\n",
    "\n",
    "Base32 是一種類似於 Base64 的編碼方法，但使用的字符集更少，只有 32 個字符。Base32 編碼將每 5 位二進制數據映射到一個字符，通常使用 A-Z 和 2-7 這 32 個字符來表示數據。Base32 編碼常用於需要更少字符集的場景，如在文件名中或在電子郵件中傳輸數據。以下是 Base32 編碼的一些特點：\n",
    "\n",
    "- **字符集：** 使用 32 個字符集來表示數據，通常是 A-Z 和 2-7。\n",
    "- **填充字符：** 在編碼的最後可能會出現 1 到 6 個填充字符 \"=\"，用來表示原始數據的末尾不足 40 位的部分。\n",
    "- **長度增加：** Base32 編碼後的數據長度通常會增加約 60%，因為每 5 個字節的二進制數據會被編碼成 8 個字符。\n",
    "\n",
    "Base64 和 Base32 編碼是常見的數據編碼方式，具有在不同場景下傳輸和存儲數據的能力。\n"
   ]
  },
  {
   "cell_type": "markdown",
   "metadata": {},
   "source": [
    "# Encode"
   ]
  },
  {
   "cell_type": "code",
   "execution_count": null,
   "metadata": {},
   "outputs": [],
   "source": [
    "import base64\n",
    "\n",
    "\n",
    "def base64_encode(data):\n",
    "    # 使用 base64 模块的 b64encode 函数进行编码\n",
    "    encoded_bytes = base64.b64encode(data)\n",
    "    # 将编码后的字节串转换为字符串并返回\n",
    "    return encoded_bytes.decode(\"utf-8\")\n",
    "\n",
    "\n",
    "# 测试编码函数\n",
    "data_to_encode = b\"This is Base64 encoding\"\n",
    "encoded_data = base64_encode(data_to_encode)\n",
    "print(\"Base64 Encoded Data:\", encoded_data)"
   ]
  },
  {
   "cell_type": "markdown",
   "metadata": {},
   "source": [
    "# Decode"
   ]
  },
  {
   "cell_type": "code",
   "execution_count": null,
   "metadata": {},
   "outputs": [],
   "source": [
    "def base64_decode(encoded_data):\n",
    "    # 将 Base64 编码的字符串转换为字节串\n",
    "    encoded_bytes = encoded_data.encode(\"utf-8\")\n",
    "    # 使用 base64 模块的 b64decode 函数进行解码\n",
    "    decoded_bytes = base64.b64decode(encoded_bytes)\n",
    "    # 返回解码后的字节串\n",
    "    return decoded_bytes\n",
    "\n",
    "\n",
    "# 测试解码函数\n",
    "decoded_data = base64_decode(encoded_data)\n",
    "print(\"Base64 Decoded Data:\", decoded_data.decode(\"utf-8\"))"
   ]
  }
 ],
 "metadata": {
  "kernelspec": {
   "display_name": "Python 3",
   "language": "python",
   "name": "python3"
  },
  "language_info": {
   "codemirror_mode": {
    "name": "ipython",
    "version": 3
   },
   "file_extension": ".py",
   "mimetype": "text/x-python",
   "name": "python",
   "nbconvert_exporter": "python",
   "pygments_lexer": "ipython3",
   "version": "3.12.0"
  }
 },
 "nbformat": 4,
 "nbformat_minor": 2
}
