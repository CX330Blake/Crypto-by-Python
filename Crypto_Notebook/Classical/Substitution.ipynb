{
 "cells": [
  {
   "cell_type": "markdown",
   "metadata": {},
   "source": [
    "# Encryption"
   ]
  },
  {
   "cell_type": "code",
   "execution_count": 4,
   "metadata": {},
   "outputs": [
    {
     "name": "stdout",
     "output_type": "stream",
     "text": [
      "Substitution Table: {'a': 'o', 'b': 'g', 'c': 'h', 'd': 'v', 'e': 'z', 'f': 'i', 'g': 'd', 'h': 'b', 'i': 'm', 'j': 'x', 'k': 'w', 'l': 'a', 'm': 'l', 'n': 'c', 'o': 'q', 'p': 'y', 'q': 'n', 'r': 't', 's': 'f', 't': 's', 'u': 'u', 'v': 'p', 'w': 'j', 'x': 'r', 'y': 'k', 'z': 'e'}\n",
      "Encrypted: Sbmf mf sbz fugfsmsusmqc hmybzt\n",
      "Decrypted: This is the substitution cipher\n"
     ]
    }
   ],
   "source": [
    "import random\n",
    "\n",
    "\n",
    "def generate_substitution_table():\n",
    "    alphabet = \"abcdefghijklmnopqrstuvwxyz\"\n",
    "    shuffled_alphabet = list(alphabet)\n",
    "    random.shuffle(shuffled_alphabet)\n",
    "    substitution_table = dict(zip(alphabet, shuffled_alphabet))\n",
    "    return substitution_table\n",
    "\n",
    "\n",
    "def substitution_encrypt(plaintext, substitution_table):\n",
    "    ciphertext = \"\"\n",
    "    for char in plaintext:\n",
    "        if char.isalpha():  # 只对字母进行加密\n",
    "            if char.isupper():\n",
    "                ciphertext += substitution_table[char.lower()].upper()\n",
    "            else:\n",
    "                ciphertext += substitution_table[char]\n",
    "        else:\n",
    "            ciphertext += char  # 非字母字符保持不变\n",
    "    return ciphertext\n",
    "\n",
    "\n",
    "def substitution_decrypt(ciphertext, substitution_table):\n",
    "    reverse_table = {v: k for k, v in substitution_table.items()}\n",
    "    return substitution_encrypt(ciphertext, reverse_table)\n",
    "\n",
    "\n",
    "# 示例明文\n",
    "plaintext = \"This is the substitution cipher\"\n",
    "\n",
    "# 生成替换表\n",
    "substitution_table = generate_substitution_table()\n",
    "print(\"Substitution Table:\", substitution_table)\n",
    "\n",
    "# 加密明文\n",
    "encrypted_text = substitution_encrypt(plaintext, substitution_table)\n",
    "print(\"Encrypted:\", encrypted_text)\n",
    "decrypted_text = substitution_decrypt(encrypted_text, substitution_table)\n",
    "print(\"Decrypted:\", decrypted_text)"
   ]
  },
  {
   "cell_type": "markdown",
   "metadata": {},
   "source": [
    "# Crack"
   ]
  },
  {
   "cell_type": "code",
   "execution_count": 5,
   "metadata": {},
   "outputs": [],
   "source": [
    "# 尝试破解"
   ]
  }
 ],
 "metadata": {
  "kernelspec": {
   "display_name": "Python 3",
   "language": "python",
   "name": "python3"
  },
  "language_info": {
   "codemirror_mode": {
    "name": "ipython",
    "version": 3
   },
   "file_extension": ".py",
   "mimetype": "text/x-python",
   "name": "python",
   "nbconvert_exporter": "python",
   "pygments_lexer": "ipython3",
   "version": "3.12.0"
  }
 },
 "nbformat": 4,
 "nbformat_minor": 2
}
