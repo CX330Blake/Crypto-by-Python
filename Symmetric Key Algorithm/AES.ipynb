{
 "cells": [
  {
   "cell_type": "markdown",
   "metadata": {},
   "source": [
    "# AES workflow"
   ]
  },
  {
   "cell_type": "markdown",
   "metadata": {},
   "source": [
    "當使用AES（高級加密標準）加密算法時，通常遵循以下工作流程：\n",
    "\n",
    "## AES加密工作流程\n",
    "\n",
    "1. **密鑰擴展（Key Expansion）**：\n",
    "   - 使用初始密鑰，通過密鑰擴展算法生成一系列輪密鑰（Round Keys），以供後續的輪密鑰加操作使用。\n",
    "\n",
    "2. **初始輪密鑰加（Initial Round Key Addition）**：\n",
    "   - 使用初始輪密鑰，將明文與初始輪密鑰進行按位異或操作（XOR）。\n",
    "\n",
    "3. **多輪加密（Multiple Rounds Encryption）**：\n",
    "   - 重覆執行以下步驟：\n",
    "     - **字節代替（SubBytes）**：使用S盒（Substitution Box）替換每個字節，增加非線性性。\n",
    "     - **行移位（ShiftRows）**：按照規定的規則對每一行進行循環左移，實現行內數據混淆。\n",
    "     - **列混淆（MixColumns）**：將每一列視為多項式，與一個固定的多項式進行乘法運算，增加數據的擴散性。\n",
    "     - **輪密鑰加（Round Key Addition）**：使用當前輪密鑰與狀態矩陣進行按位異或操作（XOR）。\n",
    "\n",
    "4. **最終加密輪**：\n",
    "   - 在最後一輪執行字節代替、行移位和輪密鑰加操作，但不執行列混淆操作。\n",
    "\n",
    "5. **輸出加密結果**：\n",
    "   - 將加密後的狀態矩陣轉換為一維數組，並輸出為密文。\n",
    "\n",
    "## AES解密工作流程\n",
    "\n",
    "1. **密鑰擴展（Key Expansion）**：\n",
    "   - 同樣使用初始密鑰，通過密鑰擴展算法生成一系列輪密鑰。\n",
    "\n",
    "2. **初始輪密鑰加（Initial Round Key Addition）**：\n",
    "   - 使用初始輪密鑰，將密文與初始輪密鑰進行按位異或操作（XOR）。\n",
    "\n",
    "3. **多輪解密（Multiple Rounds Decryption）**：\n",
    "   - 重覆執行以下步驟（與加密步驟相反執行）：\n",
    "     - **逆行移位（Inverse ShiftRows）**：按照逆規則對每一行進行循環右移，與加密過程相對應。\n",
    "     - **逆字節代替（Inverse SubBytes）**：使用逆S盒替換每個字節，與加密過程相對應。\n",
    "     - **輪密鑰加（Round Key Addition）**：使用當前輪密鑰與狀態矩陣進行按位異或操作（XOR）。\n",
    "\n",
    "4. **最終解密輪**：\n",
    "   - 在最後一輪執行逆字節代替、逆行移位和輪密鑰加操作，但不執行列混淆操作。\n",
    "\n",
    "5. **輸出解密結果**：\n",
    "   - 將解密後的狀態矩陣轉換為一維數組，並輸出為明文。\n",
    "\n",
    "## 密鑰長度和輪數\n",
    "\n",
    "- AES支持多種密鑰長度：128位、192位和256位，對應的輪數分別為10輪、12輪和14輪。\n",
    "- 密鑰長度決定了加密算法的安全性和強度，而輪數決定了加密過程的覆雜度和疊代次數。\n",
    "\n",
    "這就是AES加密算法的工作流程，涵蓋了加密和解密過程。\n"
   ]
  },
  {
   "cell_type": "markdown",
   "metadata": {},
   "source": [
    "# Example of AES encryption"
   ]
  }
 ],
 "metadata": {
  "kernelspec": {
   "display_name": "Python 3",
   "language": "python",
   "name": "python3"
  },
  "language_info": {
   "codemirror_mode": {
    "name": "ipython",
    "version": 3
   },
   "file_extension": ".py",
   "mimetype": "text/x-python",
   "name": "python",
   "nbconvert_exporter": "python",
   "pygments_lexer": "ipython3",
   "version": "3.12.0"
  }
 },
 "nbformat": 4,
 "nbformat_minor": 2
}
