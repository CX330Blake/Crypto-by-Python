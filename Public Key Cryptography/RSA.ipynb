{
 "cells": [
  {
   "cell_type": "markdown",
   "metadata": {},
   "source": [
    "# RSA 加解密演算法詳細步驟\n",
    "\n",
    "1. 選擇兩個大質數 p 和 q。計算它們的乘積 n = p * q。這是 RSA 的模數。選擇的質數應該足夠大，以防止通過分解 n 來破解 RSA 加密。\n",
    "\n",
    "2. 計算 n 的歐拉函數 φ(n) = (p-1) * (q-1)。φ(n) 是 n 以下與 n 互質的正整數的個數。\n",
    "\n",
    "3. 選擇一個與 φ(n) 互質的整數 e，稱為加密指數。通常選擇一個較小的質數，如 65537。\n",
    "\n",
    "4. 使用 e 和 n 構建公鑰 (e, n)。公鑰將被公開，用於加密數據。\n",
    "\n",
    "5. 計算 e 的模反元素 d，即 d ≡ e^(-1) (mod φ(n))。d 稱為私鑰指數。\n",
    "\n",
    "6. 使用 d 和 n 構建私鑰 (d, n)。私鑰應該保密，只有擁有私鑰的人可以解密數據。\n",
    "\n",
    "7. 加密過程:\n",
    "   - 將明文轉換為整數表示。可以使用 ASCII 編碼，每個字符對應一個數字。\n",
    "   - 對每個整數 m，計算密文 c = m^e mod n。\n",
    "   - 將所有密文組成的列表作為加密後的消息。\n",
    "\n",
    "8. 解密過程:\n",
    "   - 對於每個密文 c，計算明文 m = c^d mod n。\n",
    "   - 將所有明文 m 組成的列表拼接在一起，得到原始的明文消息。\n",
    "\n",
    "9. RSA 的安全性基於大數分解問題和數論中的數學性質。即使知道公鑰 (e, n)，也很難通過已知的信息來計算出私鑰 d。\n",
    "\n",
    "10. 選擇合適的質數 p 和 q、適當的公鑰指數 e，以及足夠長的模數 n，是確保 RSA 安全性的關鍵。\n",
    "\n",
    "11. 了解攻擊手法: [RSA 加解密演算法攻擊手法](https://blog.csdn.net/m0_52842062/article/details/119537547)\n"
   ]
  },
  {
   "cell_type": "markdown",
   "metadata": {},
   "source": [
    "# Encryption & Decryption"
   ]
  },
  {
   "cell_type": "code",
   "execution_count": null,
   "metadata": {},
   "outputs": [],
   "source": [
    "import random\n",
    "from sympy import mod_inverse\n",
    "from math import gcd\n",
    "\n",
    "\n",
    "def generate_keypair(p, q):\n",
    "    n = p * q\n",
    "    phi = (p - 1) * (q - 1)\n",
    "\n",
    "    # Choose e such that e and phi are coprime\n",
    "    e = random.randrange(1, phi)\n",
    "    while gcd(e, phi) != 1:\n",
    "        e = random.randrange(1, phi)\n",
    "\n",
    "    # Compute d, the modular multiplicative inverse of e mod phi\n",
    "    d = mod_inverse(e, phi)\n",
    "\n",
    "    return ((e, n), (d, n))\n",
    "\n",
    "\n",
    "def encrypt(public_key, plaintext):\n",
    "    e, n = public_key\n",
    "    cipher = [pow(ord(char), e, n) for char in plaintext]\n",
    "    return cipher\n",
    "\n",
    "\n",
    "def decrypt(private_key, ciphertext):\n",
    "    d, n = private_key\n",
    "    plain = [chr(pow(char, d, n)) for char in ciphertext]\n",
    "    return \"\".join(plain)\n",
    "\n",
    "\n",
    "# Example usage\n",
    "p = 61\n",
    "q = 53\n",
    "public_key, private_key = generate_keypair(p, q)\n",
    "message = \"This is the RSA encryption.\"\n",
    "encrypted_message = encrypt(public_key, message)\n",
    "decrypted_message = decrypt(private_key, encrypted_message)\n",
    "\n",
    "print(\"Original message:\", message)\n",
    "print(\"Encrypted message:\", encrypted_message)\n",
    "print(\"Decrypted message:\", decrypted_message)"
   ]
  }
 ],
 "metadata": {
  "kernelspec": {
   "display_name": "Python 3",
   "language": "python",
   "name": "python3"
  },
  "language_info": {
   "codemirror_mode": {
    "name": "ipython",
    "version": 3
   },
   "file_extension": ".py",
   "mimetype": "text/x-python",
   "name": "python",
   "nbconvert_exporter": "python",
   "pygments_lexer": "ipython3",
   "version": "3.12.0"
  }
 },
 "nbformat": 4,
 "nbformat_minor": 2
}
