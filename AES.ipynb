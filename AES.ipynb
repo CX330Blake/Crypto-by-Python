{
 "cells": [
  {
   "cell_type": "markdown",
   "metadata": {},
   "source": [
    "# AES encryption and decryption"
   ]
  },
  {
   "cell_type": "code",
   "execution_count": 5,
   "metadata": {},
   "outputs": [
    {
     "name": "stdout",
     "output_type": "stream",
     "text": [
      "Encrypted: ZfomLPhGV+OVSwEHpi0rug==\n",
      "Decrypted: Hello, world!\n"
     ]
    }
   ],
   "source": [
    "from Crypto.Cipher import AES\n",
    "from Crypto.Random import get_random_bytes\n",
    "from Crypto.Util.Padding import pad, unpad\n",
    "from base64 import b64encode, b64decode\n",
    "\n",
    "\n",
    "def aes_encrypt(plaintext, key):\n",
    "    cipher = AES.new(key, AES.MODE_ECB)\n",
    "    ciphertext = cipher.encrypt(pad(plaintext, AES.block_size))\n",
    "    return b64encode(ciphertext).decode()\n",
    "\n",
    "\n",
    "def aes_decrypt(ciphertext, key):\n",
    "    cipher = AES.new(key, AES.MODE_ECB)\n",
    "    decrypted = unpad(cipher.decrypt(b64decode(ciphertext)), AES.block_size)\n",
    "    return decrypted.decode()\n",
    "\n",
    "\n",
    "# 生成随机密钥\n",
    "key = get_random_bytes(16)\n",
    "\n",
    "# 示例明文转换为字节串\n",
    "plaintext = \"Hello, world!\".encode()\n",
    "\n",
    "# 加密明文\n",
    "encrypted_text = aes_encrypt(plaintext, key)\n",
    "print(\"Encrypted:\", encrypted_text)\n",
    "\n",
    "# 解密密文\n",
    "decrypted_text = aes_decrypt(encrypted_text, key)\n",
    "print(\"Decrypted:\", decrypted_text)"
   ]
  }
 ],
 "metadata": {
  "kernelspec": {
   "display_name": "Python 3",
   "language": "python",
   "name": "python3"
  },
  "language_info": {
   "codemirror_mode": {
    "name": "ipython",
    "version": 3
   },
   "file_extension": ".py",
   "mimetype": "text/x-python",
   "name": "python",
   "nbconvert_exporter": "python",
   "pygments_lexer": "ipython3",
   "version": "3.12.0"
  }
 },
 "nbformat": 4,
 "nbformat_minor": 2
}
