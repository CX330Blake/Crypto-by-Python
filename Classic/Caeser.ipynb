{
 "cells": [
  {
   "cell_type": "markdown",
   "metadata": {},
   "source": [
    "# Encryption"
   ]
  },
  {
   "cell_type": "code",
   "execution_count": null,
   "metadata": {},
   "outputs": [],
   "source": [
    "from rich import print"
   ]
  },
  {
   "cell_type": "code",
   "execution_count": null,
   "metadata": {},
   "outputs": [],
   "source": [
    "def caesar_encrypt(plaintext, key):\n",
    "    ciphertext = \"\"\n",
    "    for char in plaintext:\n",
    "        if char.isalpha():  # 只对字母进行加密\n",
    "            shift = (\n",
    "                65 if char.isupper() else 97\n",
    "            )  # 大写字母对应 ASCII 表中的 65，小写字母对应 97\n",
    "            encrypted_char = chr((ord(char) - shift + key) % 26 + shift)\n",
    "            ciphertext += encrypted_char\n",
    "        else:\n",
    "            ciphertext += char  # 非字母字符保持不变\n",
    "    return ciphertext\n",
    "\n",
    "\n",
    "def caesar_decrypt(ciphertext, key):\n",
    "    return caesar_encrypt(ciphertext, -key)  # 解密即加密的逆操作\n",
    "\n",
    "\n",
    "# 示例明文和密钥\n",
    "plaintext = \"This is the Caesar cipher\"\n",
    "key = 14\n",
    "\n",
    "# 加密明文\n",
    "encrypted_text = caesar_encrypt(plaintext, key)\n",
    "print(\"Encrypted:\", encrypted_text)"
   ]
  },
  {
   "cell_type": "markdown",
   "metadata": {},
   "source": [
    "# Brute Force"
   ]
  },
  {
   "cell_type": "code",
   "execution_count": null,
   "metadata": {},
   "outputs": [],
   "source": [
    "# 尝试所有可能的密钥进行破解\n",
    "for possible_key in range(1, 26):  # 因为凯撒密码只有 26 种可能的密钥\n",
    "    decrypted_text = caesar_decrypt(encrypted_text, possible_key)\n",
    "    print(f\"Key {possible_key}: {decrypted_text}\")"
   ]
  }
 ],
 "metadata": {
  "kernelspec": {
   "display_name": "Python 3",
   "language": "python",
   "name": "python3"
  },
  "language_info": {
   "codemirror_mode": {
    "name": "ipython",
    "version": 3
   },
   "file_extension": ".py",
   "mimetype": "text/x-python",
   "name": "python",
   "nbconvert_exporter": "python",
   "pygments_lexer": "ipython3",
   "version": "3.12.0"
  }
 },
 "nbformat": 4,
 "nbformat_minor": 2
}
